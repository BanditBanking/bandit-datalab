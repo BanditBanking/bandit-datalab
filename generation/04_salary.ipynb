{
 "cells": [
  {
   "cell_type": "markdown",
   "source": [
    " # Salary generation"
   ],
   "metadata": {
    "collapsed": false
   }
  },
  {
   "cell_type": "markdown",
   "source": [
    "## 1. Load salary data\n",
    "Source: https://statbel.fgov.be/fr/themes/emploi-formation/salaires-et-cout-de-la-main-doeuvre/salaires-mensuels-bruts-moyens#figures"
   ],
   "metadata": {
    "collapsed": false
   }
  },
  {
   "cell_type": "code",
   "execution_count": 1,
   "metadata": {},
   "outputs": [],
   "source": [
    "data <- read.csv(\"../datasets/repartition_salaire.csv\", header=TRUE)\n",
    "data_sorted <- data[order(data$Total), ]"
   ]
  },
  {
   "cell_type": "markdown",
   "source": [
    "## 2. Plot salary data"
   ],
   "metadata": {
    "collapsed": false
   }
  },
  {
   "cell_type": "code",
   "execution_count": 2,
   "outputs": [
    {
     "data": {
      "text/plain": "plot without title",
      "image/png": "[encoded data removed]"
     },
     "metadata": {
      "image/png": {
       "width": 420,
       "height": 420
      }
     },
     "output_type": "display_data"
    }
   ],
   "source": [
    "library(ggplot2)\n",
    "\n",
    "ggplot(data_sorted, aes(x = reorder(AgeGroup, Total), y = Total)) + geom_bar(stat=\"identity\", fill=\"blue\")"
   ],
   "metadata": {
    "collapsed": false
   }
  },
  {
   "cell_type": "markdown",
   "source": [
    "## 3. Salary generation"
   ],
   "metadata": {
    "collapsed": false
   }
  },
  {
   "cell_type": "code",
   "execution_count": 3,
   "outputs": [],
   "source": [
    "bounds <- c(0, 20, 24, 29, 34, 39, 44, 49, 54, 59, Inf)\n",
    "\n",
    "generate_salary <- function(age) {\n",
    "  age_group <- cut(age, breaks = bounds, labels = data$AgeGroup)\n",
    "  age_group <- subset(data, AgeGroup == age_group)\n",
    "  generated_salary <-  round(rnorm(1, mean = age_group$Total, sd = 400))\n",
    "  return(generated_salary)\n",
    "}"
   ],
   "metadata": {
    "collapsed": false
   }
  },
  {
   "cell_type": "markdown",
   "source": [
    "## 4. Generate new salaries"
   ],
   "metadata": {
    "collapsed": false
   }
  },
  {
   "cell_type": "code",
   "execution_count": 4,
   "outputs": [],
   "source": [
    "temp_data <- read.csv(\"../workingsets/temp_age_gender_status.csv\", header=TRUE)\n",
    "\n",
    "age <- as.numeric(temp_data$age)\n",
    "\n",
    "new_salaries <- lapply(seq_len(length(age)), function(i) {\n",
    "  generate_salary(age[i])\n",
    "})"
   ],
   "metadata": {
    "collapsed": false
   }
  },
  {
   "cell_type": "code",
   "execution_count": 5,
   "outputs": [],
   "source": [
    "new_ages_genders_statuses <- data.frame(age = temp_data$age, gender = temp_data$gender, status = temp_data$status, salary = unlist(new_salaries))\n",
    "write.csv(new_ages_genders_statuses, file = \"../workingsets/temp_age_gender_status_salary.csv\")"
   ],
   "metadata": {
    "collapsed": false
   }
  }
 ],
 "metadata": {
  "kernelspec": {
   "display_name": "R",
   "language": "R",
   "name": "ir"
  },
  "language_info": {
   "codemirror_mode": "r",
   "file_extension": ".r",
   "mimetype": "text/x-r-source",
   "name": "R",
   "pygments_lexer": "r",
   "version": "4.3.0"
  }
 },
 "nbformat": 4,
 "nbformat_minor": 1
}
