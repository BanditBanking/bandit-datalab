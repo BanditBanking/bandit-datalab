{
 "cells": [
  {
   "cell_type": "markdown",
   "source": [
    " # Status generation"
   ],
   "metadata": {
    "collapsed": false
   }
  },
  {
   "cell_type": "markdown",
   "source": [
    "## 1. Load status data\n",
    "Source: https://bestat.statbel.fgov.be/bestat/crosstable.xhtml?view=4e056039-dc63-4942-9dfb-de3d503da9c0"
   ],
   "metadata": {
    "collapsed": false
   }
  },
  {
   "cell_type": "code",
   "execution_count": 1,
   "metadata": {},
   "outputs": [],
   "source": [
    "data <- read.csv(\"../datasets/repartition_status.csv\", header=TRUE)\n",
    "\n",
    "# Filling missing values\n",
    "data$Pop[is.na(data$Pop)] <- 0\n",
    "data <- na.omit(data)"
   ]
  },
  {
   "cell_type": "markdown",
   "source": [
    "## 2. Plot status data"
   ],
   "metadata": {
    "collapsed": false
   }
  },
  {
   "cell_type": "code",
   "execution_count": 2,
   "outputs": [
    {
     "data": {
      "text/plain": "plot without title",
      "image/png": "[encoded data removed]"
     },
     "metadata": {
      "image/png": {
       "width": 420,
       "height": 420
      }
     },
     "output_type": "display_data"
    }
   ],
   "source": [
    "library(ggplot2)\n",
    "data$Status <- factor(data$Status)\n",
    "ggplot(data, aes(x = Age, y = Pop, fill = Status)) + geom_bar(stat=\"identity\")"
   ],
   "metadata": {
    "collapsed": false
   }
  },
  {
   "cell_type": "markdown",
   "source": [
    "## 3. Get status probability per age"
   ],
   "metadata": {
    "collapsed": false
   }
  },
  {
   "cell_type": "code",
   "execution_count": 4,
   "outputs": [],
   "source": [
    "age_status_prob <- list()\n",
    "for (age in unique(data$Age)) {\n",
    "  subset_data <- data[data$Age == age, ]\n",
    "  age_prob <- subset_data$Pop / sum(subset_data$Pop)\n",
    "  age_status_prob[[as.character(age)]] <- age_prob\n",
    "}"
   ],
   "metadata": {
    "collapsed": false
   }
  },
  {
   "cell_type": "markdown",
   "source": [
    "## 4. Generate new status"
   ],
   "metadata": {
    "collapsed": false
   }
  },
  {
   "cell_type": "code",
   "execution_count": 17,
   "outputs": [],
   "source": [
    "data <- read.csv(\"../workingsets/temp_age_gender.csv\", header=TRUE)\n",
    "statuses <- c(\"Single\", \"Married\", \"Widowed\", \"Divorced\")\n",
    "\n",
    "age <- as.numeric(data$age)\n",
    "\n",
    "new_statuses <- lapply(seq_len(length(age)), function(i) {\n",
    "  prob <- age_status_prob[[as.character(age[i])]]\n",
    "  sample(statuses, size = 1, replace = TRUE, prob = unlist(prob))\n",
    "})"
   ],
   "metadata": {
    "collapsed": false
   }
  },
  {
   "cell_type": "code",
   "execution_count": 19,
   "outputs": [],
   "source": [
    "new_ages_genders_statuses <- data.frame(age = data$age, gender = data$sex, status = unlist(new_statuses))\n",
    "write.csv(new_ages_genders_statuses, file = \"../workingsets/temp_age_gender_status.csv\")"
   ],
   "metadata": {
    "collapsed": false
   }
  }
 ],
 "metadata": {
  "kernelspec": {
   "display_name": "R",
   "language": "R",
   "name": "ir"
  },
  "language_info": {
   "codemirror_mode": "r",
   "file_extension": ".r",
   "mimetype": "text/x-r-source",
   "name": "R",
   "pygments_lexer": "r",
   "version": "4.3.0"
  }
 },
 "nbformat": 4,
 "nbformat_minor": 1
}
