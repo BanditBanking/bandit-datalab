{
 "cells": [
  {
   "cell_type": "markdown",
   "source": [
    " # Challenge type generation"
   ],
   "metadata": {
    "collapsed": false
   }
  },
  {
   "cell_type": "markdown",
   "source": [
    "## 1. Define probabilities\n",
    "\n",
    "Influenced by :\n",
    "\n",
    "<img height=\"400\" src=\"https://duo.com/assets/img/blogv2/sota-2021-second-factors-used.png\" width=\"1000\"/>\n",
    "\n",
    "Source: https://duo.com/blog/the-2021-state-of-the-auth-report-2fa-climbs-password-managers-biometrics-trend"
   ],
   "metadata": {
    "collapsed": false
   }
  },
  {
   "cell_type": "code",
   "execution_count": 1,
   "outputs": [],
   "source": [
    "age_groups <- c(\"<20\", \"20-24\", \"25-29\", \"30-34\", \"35-39\", \"40-44\", \"45-49\", \"50-54\", \"55-59\", \">=60\")\n",
    "\n",
    "method_probs <- list(\n",
    "   \"<20\"   = c(0.45, 0.35, 0.15, 0.05),\n",
    "   \"20-24\" = c(0.4, 0.35, 0.2, 0.05),\n",
    "   \"25-29\" = c(0.35, 0.35, 0.2, 0.1),\n",
    "   \"30-34\" = c(0.3, 0.3, 0.25, 0.15),\n",
    "   \"35-39\" = c(0.3, 0.25, 0.3, 0.15),\n",
    "   \"40-44\" = c(0.25, 0.25, 0.4, 0.1),\n",
    "   \"45-49\" = c(0.2, 0.2, 0.4, 0.2),\n",
    "   \"50-54\" = c(0.15, 0.2, 0.4, 0.25),\n",
    "   \"55-59\" = c(0.1, 0.15, 0.4, 0.35),\n",
    "   \">=60\"  = c(0.05, 0.1, 0.45, 0.4)\n",
    ")\n",
    "\n",
    "methods <- c(\"SMS\", \"EMAIL\", \"OTP\", \"ID\")"
   ],
   "metadata": {
    "collapsed": false
   }
  },
  {
   "cell_type": "markdown",
   "source": [
    "## 2. Generate challenges"
   ],
   "metadata": {
    "collapsed": false
   }
  },
  {
   "cell_type": "code",
   "execution_count": 2,
   "outputs": [],
   "source": [
    "bounds <- c(0, 20, 24, 29, 34, 39, 44, 49, 54, 59, Inf)\n",
    "\n",
    "generate_challenge <- function(age) {\n",
    "  age_group <- cut(age, breaks = bounds, labels = age_groups)\n",
    "  challenge <- sample(methods, size=1, replace = TRUE, prob=unlist(method_probs[age_group]))\n",
    "  return(challenge)\n",
    "}"
   ],
   "metadata": {
    "collapsed": false
   }
  },
  {
   "cell_type": "code",
   "execution_count": 3,
   "outputs": [],
   "source": [
    "temp_data <- read.csv(\"../workingsets/temp_age_gender_status_salary_bank_activity_amount.csv\", header=TRUE)\n",
    "\n",
    "age <- as.numeric(temp_data$age)\n",
    "\n",
    "new_challenges <- lapply(seq_len(length(age)), function(i) {\n",
    "  generate_challenge(age[i])\n",
    "})\n",
    "\n",
    "new_ages_genders_statuses_banks_activities_amounts_challenges <- data.frame(age = temp_data$age, gender = temp_data$gender, status = temp_data$status, salary = temp_data$salary, bank = temp_data$bank, activity = temp_data$activity, amount = temp_data$amount, challenge = unlist(new_challenges))"
   ],
   "metadata": {
    "collapsed": false
   }
  },
  {
   "cell_type": "markdown",
   "source": [
    "## 3. Plot challenge repartition"
   ],
   "metadata": {
    "collapsed": false
   }
  },
  {
   "cell_type": "code",
   "execution_count": 4,
   "outputs": [
    {
     "name": "stderr",
     "output_type": "stream",
     "text": [
      "\n",
      "Attaching package: 'dplyr'\n",
      "\n",
      "\n",
      "The following objects are masked from 'package:stats':\n",
      "\n",
      "    filter, lag\n",
      "\n",
      "\n",
      "The following objects are masked from 'package:base':\n",
      "\n",
      "    intersect, setdiff, setequal, union\n",
      "\n",
      "\n"
     ]
    },
    {
     "data": {
      "text/plain": "plot without title",
      "image/png": "[encoded data removed]"
     },
     "metadata": {
      "image/png": {
       "width": 420,
       "height": 420
      }
     },
     "output_type": "display_data"
    }
   ],
   "source": [
    "library(ggplot2)\n",
    "library(dplyr)\n",
    "new_ages_genders_statuses_banks_activities_amounts_challenges$challenge <- as.character(new_ages_genders_statuses_banks_activities_amounts_challenges$challenge)\n",
    "counts <- new_ages_genders_statuses_banks_activities_amounts_challenges %>% count(age, challenge)\n",
    "ggplot(counts, aes(x = age, y = n, fill = challenge)) + geom_col()"
   ],
   "metadata": {
    "collapsed": false
   }
  },
  {
   "cell_type": "markdown",
   "source": [
    "## 4. Export generated data"
   ],
   "metadata": {
    "collapsed": false
   }
  },
  {
   "cell_type": "code",
   "execution_count": 5,
   "outputs": [],
   "source": [
    "write.csv(new_ages_genders_statuses_banks_activities_amounts_challenges, file = \"../workingsets/temp_age_gender_status_salary_bank_activity_amount_challenge.csv\")"
   ],
   "metadata": {
    "collapsed": false
   }
  }
 ],
 "metadata": {
  "kernelspec": {
   "display_name": "R",
   "language": "R",
   "name": "ir"
  },
  "language_info": {
   "codemirror_mode": "r",
   "file_extension": ".r",
   "mimetype": "text/x-r-source",
   "name": "R",
   "pygments_lexer": "r",
   "version": "4.3.0"
  }
 },
 "nbformat": 4,
 "nbformat_minor": 1
}
