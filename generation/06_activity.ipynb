{
 "cells": [
  {
   "cell_type": "markdown",
   "source": [
    " # Activity intereset generation"
   ],
   "metadata": {
    "collapsed": false
   }
  },
  {
   "cell_type": "markdown",
   "source": [
    "## 1. Define probabilities"
   ],
   "metadata": {
    "collapsed": false
   }
  },
  {
   "cell_type": "code",
   "execution_count": 1,
   "outputs": [],
   "source": [
    "activity_probs <- list(\n",
    "   \"Single\" = c(0.5, 0.4, 0.1),\n",
    "   \"Married\" = c(0.3, 0.5, 0.2),\n",
    "   \"Divorced\" = c(0.15, 0.6, 0.25),\n",
    "   \"Widowed\" = c(0.1, 0.4, 0.5)\n",
    ")\n",
    "activities <- c(\"Trading Cards\",\"Dachshunds\",\"Brass Animals\")"
   ],
   "metadata": {
    "collapsed": false
   }
  },
  {
   "cell_type": "markdown",
   "source": [
    "## 2. Generate activity interest"
   ],
   "metadata": {
    "collapsed": false
   }
  },
  {
   "cell_type": "code",
   "execution_count": 2,
   "outputs": [],
   "source": [
    "generate_activity <- function(status) {\n",
    "  activity <- sample(activities, size=1, replace = TRUE, prob=unlist(activity_probs[status]))\n",
    "  return(activity)\n",
    "}"
   ],
   "metadata": {
    "collapsed": false
   }
  },
  {
   "cell_type": "code",
   "execution_count": 7,
   "outputs": [],
   "source": [
    "temp_data <- read.csv(\"../workingsets/temp_age_gender_status_salary_bank.csv\", header=TRUE)\n",
    "\n",
    "status <- temp_data$status\n",
    "\n",
    "new_activities <- lapply(seq_len(length(status)), function(i) {\n",
    "  generate_activity(status[i])\n",
    "})\n",
    "\n",
    "new_ages_genders_statuses_banks_activites <- data.frame(age = temp_data$age, gender = temp_data$gender, status = temp_data$status, salary = temp_data$salary, bank = temp_data$bank, activity = unlist(new_activities))"
   ],
   "metadata": {
    "collapsed": false
   }
  },
  {
   "cell_type": "markdown",
   "source": [
    "## 3. Plot activity repartition"
   ],
   "metadata": {
    "collapsed": false
   }
  },
  {
   "cell_type": "code",
   "execution_count": 8,
   "outputs": [
    {
     "data": {
      "text/plain": "plot without title",
      "image/png": "[encoded data removed]"
     },
     "metadata": {
      "image/png": {
       "width": 420,
       "height": 420
      }
     },
     "output_type": "display_data"
    }
   ],
   "source": [
    "library(ggplot2)\n",
    "library(dplyr)\n",
    "new_ages_genders_statuses_banks_activites$activity <- as.character(new_ages_genders_statuses_banks_activites$activity)\n",
    "counts <- new_ages_genders_statuses_banks_activites %>% count(status, activity)\n",
    "ggplot(counts, aes(x = status, y = n, fill = activity)) + geom_col()"
   ],
   "metadata": {
    "collapsed": false
   }
  },
  {
   "cell_type": "markdown",
   "source": [
    "## 4. Export generated data"
   ],
   "metadata": {
    "collapsed": false
   }
  },
  {
   "cell_type": "code",
   "execution_count": 9,
   "outputs": [],
   "source": [
    "write.csv(new_ages_genders_statuses_banks_activites, file = \"../workingsets/temp_age_gender_status_salary_bank_activity.csv\")"
   ],
   "metadata": {
    "collapsed": false
   }
  }
 ],
 "metadata": {
  "kernelspec": {
   "display_name": "R",
   "language": "R",
   "name": "ir"
  },
  "language_info": {
   "codemirror_mode": "r",
   "file_extension": ".r",
   "mimetype": "text/x-r-source",
   "name": "R",
   "pygments_lexer": "r",
   "version": "4.3.0"
  }
 },
 "nbformat": 4,
 "nbformat_minor": 1
}
