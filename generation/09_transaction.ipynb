{
 "cells": [
  {
   "cell_type": "markdown",
   "source": [
    " # Transaction generation"
   ],
   "metadata": {
    "collapsed": false
   }
  },
  {
   "cell_type": "markdown",
   "source": [
    "## 1. Import required libraries"
   ],
   "metadata": {
    "collapsed": false
   }
  },
  {
   "cell_type": "code",
   "execution_count": 1,
   "outputs": [],
   "source": [
    "if(!is.element(\"devtools\", installed.packages()[,1])){\n",
    "  install.packages(\"devtools\")\n",
    "}\n",
    "\n",
    "if(!is.element(\"Rcpp\", installed.packages()[,1])){\n",
    "  devtools::install_github(\"RcppCore/Rcpp\")\n",
    "}\n",
    "\n",
    "if(!is.element(\"DBI\", installed.packages()[,1])){\n",
    "  devtools::install_github(\"rstats-db/DBI\")\n",
    "}\n",
    "\n",
    "if(!is.element(\"RPostgres\", installed.packages()[,1])){\n",
    "  devtools::install_github(\"rstats-db/RPostgres\")\n",
    "}\n",
    "\n",
    "if(!is.element(\"uuid\", installed.packages()[,1])){\n",
    "  install.packages(\"uuid\")\n",
    "}\n",
    "\n",
    "\n",
    "library(RPostgres)\n",
    "library(DBI)\n",
    "library(uuid)"
   ],
   "metadata": {
    "collapsed": false
   }
  },
  {
   "cell_type": "markdown",
   "source": [
    "## 2. Define constants"
   ],
   "metadata": {
    "collapsed": false
   }
  },
  {
   "cell_type": "code",
   "execution_count": 2,
   "outputs": [],
   "source": [
    "banks <- c(\"bandit-radinou\", \"bandit-picsou\", \"bandit-donsaluste\", \"bandit-profit\")"
   ],
   "metadata": {
    "collapsed": false
   }
  },
  {
   "cell_type": "markdown",
   "source": [
    "## 3. Generate transactions"
   ],
   "metadata": {
    "collapsed": false
   }
  },
  {
   "cell_type": "code",
   "execution_count": 3,
   "outputs": [],
   "source": [
    "generate_birth_date <- function(n) {\n",
    "  # Générer des années de naissance aléatoires entre 1970 et 2005\n",
    "  annees <- sample(1930:2005, n, replace = TRUE)\n",
    "\n",
    "  # Générer des mois de naissance aléatoires entre janvier et décembre\n",
    "  mois <- sample(1:12, n, replace = TRUE)\n",
    "\n",
    "  # Générer des jours de naissance aléatoires entre 1 et 28\n",
    "  jours <- sample(1:28, n, replace = TRUE)\n",
    "\n",
    "  # Générer des heures de naissance aléatoires entre 0 et 23\n",
    "  heures <- sample(0:23, n, replace = TRUE)\n",
    "\n",
    "  # Générer des minutes de naissance aléatoires entre 0 et 59\n",
    "  minutes <- sample(0:59, n, replace = TRUE)\n",
    "\n",
    "  # Générer des secondes de naissance aléatoires entre 0 et 59\n",
    "  secondes <- sample(0:59, n, replace = TRUE)\n",
    "\n",
    "  # Combiner les années, mois, jours, heures, minutes et secondes en un vecteur de dates-temps\n",
    "  ClientBirthDate <- as.POSIXct(paste(annees, mois, jours, heures, minutes, secondes, sep = \"-\"), format = \"%Y-%m-%d-%H-%M-%S\")\n",
    "  return (as.data.frame(ClientBirthDate))\n",
    "}"
   ],
   "metadata": {
    "collapsed": false
   }
  },
  {
   "cell_type": "code",
   "execution_count": 4,
   "outputs": [],
   "source": [
    "generate_transaction_date <- function(n) {\n",
    "  start_date <- as.POSIXct(\"2023-01-01-0-0-0\", format=\"%Y-%m-%d-%H-%M-%S\")\n",
    "  end_date <- Sys.time()\n",
    "  TransactionDate <- as.POSIXct(start_date + runif(n, 0, difftime(end_date, start_date, units = \"secs\")), origin=\"1970-01-01\")\n",
    "  return (as.data.frame(TransactionDate))\n",
    "}"
   ],
   "metadata": {
    "collapsed": false
   }
  },
  {
   "cell_type": "code",
   "execution_count": 5,
   "outputs": [],
   "source": [
    "temp_data <- read.csv(\"../workingsets/temp_age_gender_status_salary_bank_activity_amount_challenge.csv\", header=TRUE)\n",
    "\n",
    "Id <- unlist(lapply(seq_len(nrow(temp_data)), function(i) { UUIDgenerate() }))\n",
    "DebitBank <- unlist(lapply(seq_len(nrow(temp_data)), function(i) { sample(banks,1,replace = TRUE, prob = c(0.1, 0.2, 0.3, 0.4)) }))\n",
    "CreditBank <- temp_data$bank\n",
    "ClientId <- unlist(lapply(seq_len(nrow(temp_data)), function(i) { UUIDgenerate() }))\n",
    "ClientGender <- temp_data$gender\n",
    "ClientBirthDate <- generate_birth_date(nrow(temp_data))\n",
    "ClientAge <- temp_data$age\n",
    "ClientMaritalStatus <- temp_data$status\n",
    "ClientMonthlySalary <- temp_data$salary\n",
    "TransactionDate <- generate_transaction_date(nrow(temp_data))\n",
    "MerchantActivity <- temp_data$activity\n",
    "AuthenticationMethod <- temp_data$challenge\n",
    "TransferredAmount <- temp_data$amount"
   ],
   "metadata": {
    "collapsed": false
   }
  },
  {
   "cell_type": "markdown",
   "source": [
    "## 3. Export transactions"
   ],
   "metadata": {
    "collapsed": false
   }
  },
  {
   "cell_type": "code",
   "execution_count": 6,
   "outputs": [],
   "source": [
    "transactions <- data.frame(Id,DebitBank,CreditBank,ClientId,ClientGender,ClientBirthDate = ClientBirthDate,ClientAge,ClientMaritalStatus,ClientMonthlySalary,TransactionDate = TransactionDate,MerchantActivity,AuthenticationMethod,TransferredAmount)\n",
    "write.csv(transactions, file = \"../workingsets/transactions.csv\")\n",
    "\n",
    "con <- dbConnect(RPostgres::Postgres(), host='localhost', port='5433', dbname='bandit-nbs', user='bandit', password=\"orF9YuPWVajej5tC6cfiro94BoxrzsoE\")\n",
    "dbWriteTable(con, \"Transaction\", transactions, append = TRUE, row.names = FALSE)"
   ],
   "metadata": {
    "collapsed": false
   }
  }
 ],
 "metadata": {
  "kernelspec": {
   "display_name": "R",
   "language": "R",
   "name": "ir"
  },
  "language_info": {
   "codemirror_mode": "r",
   "file_extension": ".r",
   "mimetype": "text/x-r-source",
   "name": "R",
   "pygments_lexer": "r",
   "version": "4.3.0"
  }
 },
 "nbformat": 4,
 "nbformat_minor": 1
}
