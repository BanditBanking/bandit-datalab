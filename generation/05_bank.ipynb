{
 "cells": [
  {
   "cell_type": "markdown",
   "source": [
    " # Bank subsciption generation"
   ],
   "metadata": {
    "collapsed": false
   }
  },
  {
   "cell_type": "markdown",
   "source": [
    "## 1. Define probabilities"
   ],
   "metadata": {
    "collapsed": false
   }
  },
  {
   "cell_type": "code",
   "execution_count": 6,
   "outputs": [],
   "source": [
    "age_groups <- c(\"<20\", \"20-24\", \"25-29\", \"30-34\", \"35-39\", \"40-44\", \"45-49\", \"50-54\", \"55-59\", \">=60\")\n",
    "bank_probs <- list(\n",
    "   \"<20\" = c(0.5, 0.3, 0.15, 0.05),\n",
    "   \"20-24\" = c(0.4, 0.3, 0.2, 0.1),\n",
    "   \"25-29\" = c(0.3, 0.4, 0.2, 0.1),\n",
    "   \"30-34\" = c(0.25, 0.45, 0.15, 0.15),\n",
    "   \"35-39\" = c(0.15, 0.5, 0.2, 0.15),\n",
    "   \"40-44\" = c(0.1, 0.3, 0.4, 0.2),\n",
    "   \"45-49\" = c(0.1, 0.2, 0.5, 0.2),\n",
    "   \"50-54\" = c(0.05, 0.15, 0.5, 0.3),\n",
    "   \"55-59\" = c(0.05, 0.1, 0.4, 0.45),\n",
    "   \">=60\" = c(0.05, 0.1, 0.3, 0.55)\n",
    ")\n",
    "banks <- c(\"bandit-radinou\", \"bandit-picsou\", \"bandit-donsaluste\", \"bandit-profit\")"
   ],
   "metadata": {
    "collapsed": false
   }
  },
  {
   "cell_type": "markdown",
   "source": [
    "## 2. Generate bank subscriptions"
   ],
   "metadata": {
    "collapsed": false
   }
  },
  {
   "cell_type": "code",
   "execution_count": 7,
   "outputs": [],
   "source": [
    "bounds <- c(0, 20, 24, 29, 34, 39, 44, 49, 54, 59, Inf)\n",
    "\n",
    "generate_bank <- function(age) {\n",
    "  age_group <- cut(age, breaks = bounds, labels = age_groups)\n",
    "  bank <- sample(banks, size=1, replace = TRUE, prob=unlist(bank_probs[age_group]))\n",
    "  return(bank)\n",
    "}"
   ],
   "metadata": {
    "collapsed": false
   }
  },
  {
   "cell_type": "code",
   "execution_count": 8,
   "outputs": [],
   "source": [
    "temp_data <- read.csv(\"../workingsets/temp_age_gender_status_salary.csv\", header=TRUE)\n",
    "\n",
    "age <- as.numeric(temp_data$age)\n",
    "\n",
    "new_banks <- lapply(seq_len(length(age)), function(i) {\n",
    "  generate_bank(age[i])\n",
    "})\n",
    "\n",
    "new_ages_genders_statuses_banks <- data.frame(age = temp_data$age, gender = temp_data$gender, status = temp_data$status, salary = temp_data$salary, bank=unlist(new_banks))"
   ],
   "metadata": {
    "collapsed": false
   }
  },
  {
   "cell_type": "markdown",
   "source": [
    "## 3. Plot bank repartition"
   ],
   "metadata": {
    "collapsed": false
   }
  },
  {
   "cell_type": "code",
   "execution_count": 9,
   "outputs": [
    {
     "data": {
      "text/plain": "plot without title",
      "image/png": "[encoded data removed]"
     },
     "metadata": {
      "image/png": {
       "width": 420,
       "height": 420
      }
     },
     "output_type": "display_data"
    }
   ],
   "source": [
    "library(ggplot2)\n",
    "library(dplyr)\n",
    "new_ages_genders_statuses_banks$bank <- as.character(new_ages_genders_statuses_banks$bank)\n",
    "counts <- new_ages_genders_statuses_banks %>% count(age, bank)\n",
    "ggplot(counts, aes(x = age, y = n, fill = bank)) + geom_col()"
   ],
   "metadata": {
    "collapsed": false
   }
  },
  {
   "cell_type": "markdown",
   "source": [
    "## 4. Export generated data"
   ],
   "metadata": {
    "collapsed": false
   }
  },
  {
   "cell_type": "code",
   "execution_count": 10,
   "outputs": [],
   "source": [
    "write.csv(new_ages_genders_statuses_banks, file = \"../workingsets/temp_age_gender_status_salary_bank.csv\")"
   ],
   "metadata": {
    "collapsed": false
   }
  }
 ],
 "metadata": {
  "kernelspec": {
   "display_name": "R",
   "language": "R",
   "name": "ir"
  },
  "language_info": {
   "codemirror_mode": "r",
   "file_extension": ".r",
   "mimetype": "text/x-r-source",
   "name": "R",
   "pygments_lexer": "r",
   "version": "4.3.0"
  }
 },
 "nbformat": 4,
 "nbformat_minor": 1
}
