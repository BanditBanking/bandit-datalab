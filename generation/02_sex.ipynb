{
 "cells": [
  {
   "cell_type": "markdown",
   "source": [
    " # Gender generation"
   ],
   "metadata": {
    "collapsed": false
   }
  },
  {
   "cell_type": "markdown",
   "source": [
    "## 1. Load gender data\n",
    "Source: https://bestat.statbel.fgov.be/bestat/crosstable.xhtml?view=4e056039-dc63-4942-9dfb-de3d503da9c0"
   ],
   "metadata": {
    "collapsed": false
   }
  },
  {
   "cell_type": "code",
   "execution_count": 2,
   "metadata": {},
   "outputs": [],
   "source": [
    "data <- read.csv(\"../datasets/repartition_sexe.csv\", header=TRUE)\n",
    "sex <- data$Sex\n",
    "population <- data$Pop\n",
    "population_prob <- population / sum(population)"
   ]
  },
  {
   "cell_type": "markdown",
   "source": [
    "## 2. Plot gender probability"
   ],
   "metadata": {
    "collapsed": false
   }
  },
  {
   "cell_type": "code",
   "execution_count": 3,
   "outputs": [
    {
     "data": {
      "text/plain": "plot without title",
      "image/png": "[encoded data removed]"
     },
     "metadata": {
      "image/png": {
       "width": 420,
       "height": 420
      }
     },
     "output_type": "display_data"
    }
   ],
   "source": [
    "labels <- c(\"Female\", \"Male\")\n",
    "colors <- c(\"pink\",\"blue\")\n",
    "pie(population_prob, labels=paste(labels,\"(\", round(population_prob*100), \"%)\"), col=colors)"
   ],
   "metadata": {
    "collapsed": false
   }
  },
  {
   "cell_type": "markdown",
   "source": [
    "## 3. Generate new data based on gender probability"
   ],
   "metadata": {
    "collapsed": false
   }
  },
  {
   "cell_type": "code",
   "execution_count": 4,
   "outputs": [
    {
     "data": {
      "text/html": "'character'",
      "text/markdown": "'character'",
      "text/latex": "'character'",
      "text/plain": "[1] \"character\""
     },
     "metadata": {},
     "output_type": "display_data"
    }
   ],
   "source": [
    "data <- read.csv(\"../workingsets/temp_age.csv\", header=TRUE)\n",
    "new_genders <- sample(c(\"Female\", \"Male\"), size = nrow(data), replace = TRUE, prob = c(population_prob[1], population_prob[2]))\n",
    "class(new_genders)\n",
    "new_ages_genders <- data.frame(age = data[2], sex = new_genders)"
   ],
   "metadata": {
    "collapsed": false
   }
  },
  {
   "cell_type": "markdown",
   "source": [
    "## 4. Export data"
   ],
   "metadata": {
    "collapsed": false
   }
  },
  {
   "cell_type": "code",
   "execution_count": 5,
   "outputs": [],
   "source": [
    "write.csv(new_ages_genders, file = \"../workingsets/temp_age_gender.csv\")"
   ],
   "metadata": {
    "collapsed": false
   }
  }
 ],
 "metadata": {
  "kernelspec": {
   "display_name": "R",
   "language": "R",
   "name": "ir"
  },
  "language_info": {
   "codemirror_mode": "r",
   "file_extension": ".r",
   "mimetype": "text/x-r-source",
   "name": "R",
   "pygments_lexer": "r",
   "version": "4.3.0"
  }
 },
 "nbformat": 4,
 "nbformat_minor": 1
}
