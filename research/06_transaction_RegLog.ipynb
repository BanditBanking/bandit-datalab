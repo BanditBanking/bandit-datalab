{
 "cells": [
  {
   "cell_type": "markdown",
   "source": [
    "  # Transactions Logistic Regression"
   ],
   "metadata": {
    "collapsed": false
   }
  },
  {
   "cell_type": "markdown",
   "source": [
    "## 1. Import required libraries"
   ],
   "metadata": {
    "collapsed": false
   }
  },
  {
   "cell_type": "code",
   "execution_count": 1,
   "outputs": [],
   "source": [
    "if(!is.element(\"devtools\", installed.packages()[,1])){\n",
    "  install.packages(\"devtools\")\n",
    "}\n",
    "\n",
    "if(!is.element(\"DBI\", installed.packages()[,1])){\n",
    "  devtools::install_github(\"rstats-db/DBI\")\n",
    "}\n",
    "\n",
    "if(!is.element(\"RPostgres\", installed.packages()[,1])){\n",
    "  devtools::install_github(\"rstats-db/RPostgres\")\n",
    "}\n",
    "\n",
    "library(RPostgres)\n",
    "library(DBI)"
   ],
   "metadata": {
    "collapsed": false
   }
  },
  {
   "cell_type": "markdown",
   "source": [
    "## 2. Load data from Database using SQL query"
   ],
   "metadata": {
    "collapsed": false
   }
  },
  {
   "cell_type": "code",
   "execution_count": 27,
   "outputs": [
    {
     "data": {
      "text/plain": "      Id                        DebitBank                CreditBank  \n Length:7980        bandit-donsaluste:2423   bandit-donsaluste:2421  \n Class :character   bandit-picsou    :1566   bandit-picsou    :1849  \n Mode  :character   bandit-profit    :3197   bandit-profit    :2544  \n                    bandit-radinou   : 794   bandit-radinou   :1166  \n                                                                     \n                                                                     \n                                                                     \n   ClientId         ClientGender  ClientBirthDate                   \n Length:7980        Female:4135   Min.   :1930-01-01 19:31:36.0000  \n Class :character   Male  :3845   1st Qu.:1948-03-27 04:38:18.2500  \n Mode  :character                 Median :1968-12-05 14:08:24.5000  \n                                  Mean   :1967-12-18 04:27:29.8788  \n                                  3rd Qu.:1986-10-16 14:52:00.2500  \n                                  Max.   :2005-12-28 06:31:49.0000  \n                                  NA's   :2                         \n   ClientAge     ClientMaritalStatus ClientMonthlySalary\n Min.   :18.00   Divorced: 953       Min.   :1208       \n 1st Qu.:34.00   Married :3515       1st Qu.:3520       \n Median :50.00   Single  :2926       Median :4271       \n Mean   :49.93   Widowed : 586       Mean   :4137       \n 3rd Qu.:64.00                       3rd Qu.:4847       \n Max.   :99.00                       Max.   :6392       \n                                                        \n TransactionDate                       MerchantActivity AuthenticationMethod\n Min.   :2022-12-31 23:01:21.96   Brass Animals:1515    EMAIL:1630          \n 1st Qu.:2023-02-05 13:02:13.25   Dachshunds   :3753    ID   :1877          \n Median :2023-03-12 17:07:34.56   Trading Cards:2712    OTP  :2906          \n Mean   :2023-03-12 01:26:57.95                         SMS  :1567          \n 3rd Qu.:2023-04-15 15:11:12.55                                             \n Max.   :2023-05-19 05:52:42.13                                             \n                                                                            \n TransferredAmount\n Min.   : 12.0    \n 1st Qu.: 56.0    \n Median :120.0    \n Mean   :224.8    \n 3rd Qu.:396.0    \n Max.   :653.0    \n                  "
     },
     "metadata": {},
     "output_type": "display_data"
    }
   ],
   "source": [
    "con <- dbConnect(RPostgres::Postgres(), host='localhost', port='5433', dbname='bandit-nbs', user='bandit', password=\"orF9YuPWVajej5tC6cfiro94BoxrzsoE\")\n",
    "transactions <- dbGetQuery(con, 'SELECT * FROM \"Transaction\"')\n",
    "rownames(transactions) <- transactions$Id\n",
    "\n",
    "transactions[,\"DebitBank\"] = factor(transactions[,\"DebitBank\"])\n",
    "transactions[,\"CreditBank\"] = factor(transactions[,\"CreditBank\"])\n",
    "transactions[,\"ClientGender\"] = factor(transactions[,\"ClientGender\"])\n",
    "transactions[,\"ClientMaritalStatus\"] = factor(transactions[,\"ClientMaritalStatus\"])\n",
    "transactions[,\"MerchantActivity\"] = factor(transactions[,\"MerchantActivity\"])\n",
    "transactions[,\"AuthenticationMethod\"] = factor(transactions[,\"AuthenticationMethod\"])\n",
    "\n",
    "summary(transactions)"
   ],
   "metadata": {
    "collapsed": false
   }
  },
  {
   "cell_type": "markdown",
   "source": [
    "## 3. Logistic regression model creation"
   ],
   "metadata": {
    "collapsed": false
   }
  },
  {
   "cell_type": "code",
   "execution_count": 22,
   "outputs": [],
   "source": [
    "# Remove disturbing values\n",
    "transactions_sample <- transactions\n",
    "transactions_sample$ClientId <- NULL\n",
    "transactions_sample$Id <- NULL"
   ],
   "metadata": {
    "collapsed": false
   }
  },
  {
   "cell_type": "code",
   "execution_count": 23,
   "outputs": [
    {
     "data": {
      "text/plain": "\nCall:\nglm(formula = MerchantActivity ~ ., family = binomial, data = transactions_sample)\n\nCoefficients:\n                             Estimate Std. Error z value Pr(>|z|)    \n(Intercept)                -5.377e+00  1.620e+01  -0.332   0.7400    \nDebitBankbandit-picsou      6.839e-02  9.632e-02   0.710   0.4777    \nDebitBankbandit-profit      2.051e-02  8.032e-02   0.255   0.7985    \nDebitBankbandit-radinou     3.493e-03  1.209e-01   0.029   0.9770    \nCreditBankbandit-picsou    -1.574e-01  9.539e-02  -1.651   0.0988 .  \nCreditBankbandit-profit     9.492e-02  8.319e-02   1.141   0.2538    \nCreditBankbandit-radinou    2.028e-01  1.208e-01   1.679   0.0932 .  \nClientGenderMale            2.916e-03  6.671e-02   0.044   0.9651    \nClientBirthDate             3.920e-11  4.766e-11   0.822   0.4108    \nClientAge                   1.908e-03  3.724e-03   0.512   0.6083    \nClientMaritalStatusMarried  7.158e-01  1.013e-01   7.068 1.57e-12 ***\nClientMaritalStatusSingle   2.169e+00  1.281e-01  16.929  < 2e-16 ***\nClientMaritalStatusWidowed -1.217e+00  1.458e-01  -8.343  < 2e-16 ***\nClientMonthlySalary        -4.928e-05  7.074e-05  -0.697   0.4860    \nTransactionDate             2.729e-09  9.649e-09   0.283   0.7773    \nAuthenticationMethodID      2.924e-02  1.063e-01   0.275   0.7833    \nAuthenticationMethodOTP     7.493e-02  9.697e-02   0.773   0.4397    \nAuthenticationMethodSMS    -1.068e-02  1.114e-01  -0.096   0.9236    \nTransferredAmount           9.060e-03  3.187e-04  28.424  < 2e-16 ***\n---\nSignif. codes:  0 '***' 0.001 '**' 0.01 '*' 0.05 '.' 0.1 ' ' 1\n\n(Dispersion parameter for binomial family taken to be 1)\n\n    Null deviance: 7752.9  on 7977  degrees of freedom\nResidual deviance: 5685.0  on 7959  degrees of freedom\n  (2 observations deleted due to missingness)\nAIC: 5723\n\nNumber of Fisher Scoring iterations: 6\n"
     },
     "metadata": {},
     "output_type": "display_data"
    }
   ],
   "source": [
    "model<-glm(MerchantActivity~., data=transactions_sample, family=binomial)\n",
    "summary(model)"
   ],
   "metadata": {
    "collapsed": false
   }
  },
  {
   "cell_type": "code",
   "execution_count": 24,
   "outputs": [
    {
     "data": {
      "text/plain": "\nCall:\nglm(formula = AuthenticationMethod ~ ., family = binomial, data = transactions_sample)\n\nCoefficients:\n                                Estimate Std. Error z value Pr(>|z|)    \n(Intercept)                    4.207e+00  1.387e+01   0.303   0.7616    \nDebitBankbandit-picsou        -1.190e-01  8.157e-02  -1.459   0.1445    \nDebitBankbandit-profit        -1.137e-02  6.916e-02  -0.164   0.8694    \nDebitBankbandit-radinou       -5.615e-02  1.030e-01  -0.545   0.5858    \nCreditBankbandit-picsou        1.087e-01  7.961e-02   1.366   0.1720    \nCreditBankbandit-profit       -4.351e-02  7.675e-02  -0.567   0.5708    \nCreditBankbandit-radinou       1.579e-01  9.197e-02   1.717   0.0859 .  \nClientGenderMale              -5.953e-02  5.689e-02  -1.046   0.2953    \nClientBirthDate                2.269e-11  4.094e-11   0.554   0.5795    \nClientAge                      3.214e-02  3.585e-03   8.966   <2e-16 ***\nClientMaritalStatusMarried     6.965e-02  9.790e-02   0.711   0.4768    \nClientMaritalStatusSingle      1.898e-01  1.112e-01   1.707   0.0878 .  \nClientMaritalStatusWidowed    -1.948e-01  1.646e-01  -1.184   0.2366    \nClientMonthlySalary            5.731e-05  6.110e-05   0.938   0.3483    \nTransactionDate               -2.801e-09  8.259e-09  -0.339   0.7345    \nMerchantActivityDachshunds    -1.140e-01  1.754e-01  -0.650   0.5159    \nMerchantActivityTrading Cards  4.081e-02  9.237e-02   0.442   0.6586    \nTransferredAmount              3.847e-04  5.170e-04   0.744   0.4569    \n---\nSignif. codes:  0 '***' 0.001 '**' 0.01 '*' 0.05 '.' 0.1 ' ' 1\n\n(Dispersion parameter for binomial family taken to be 1)\n\n    Null deviance: 8078.9  on 7977  degrees of freedom\nResidual deviance: 7711.7  on 7960  degrees of freedom\n  (2 observations deleted due to missingness)\nAIC: 7747.7\n\nNumber of Fisher Scoring iterations: 4\n"
     },
     "metadata": {},
     "output_type": "display_data"
    }
   ],
   "source": [
    "model<-glm(AuthenticationMethod~., data=transactions_sample, family=binomial)\n",
    "summary(model)"
   ],
   "metadata": {
    "collapsed": false
   }
  },
  {
   "cell_type": "code",
   "execution_count": 25,
   "outputs": [
    {
     "data": {
      "text/plain": "\nCall:\nglm(formula = ClientMaritalStatus ~ ., family = binomial, data = transactions_sample)\n\nCoefficients:\n                                Estimate Std. Error z value Pr(>|z|)    \n(Intercept)                    9.215e+00  1.734e+01   0.531 0.595080    \nDebitBankbandit-picsou         3.201e-02  1.072e-01   0.299 0.765283    \nDebitBankbandit-profit        -1.964e-01  8.536e-02  -2.300 0.021420 *  \nDebitBankbandit-radinou       -7.066e-02  1.325e-01  -0.533 0.593751    \nCreditBankbandit-picsou        4.157e-01  1.081e-01   3.845 0.000121 ***\nCreditBankbandit-profit        1.428e-01  8.361e-02   1.707 0.087732 .  \nCreditBankbandit-radinou       5.320e-01  1.396e-01   3.811 0.000138 ***\nClientGenderMale              -1.642e-03  7.123e-02  -0.023 0.981606    \nClientBirthDate               -2.959e-11  5.145e-11  -0.575 0.565160    \nClientAge                      1.042e-02  3.532e-03   2.951 0.003167 ** \nClientMonthlySalary           -6.967e-04  7.583e-05  -9.189  < 2e-16 ***\nTransactionDate               -3.105e-09  1.033e-08  -0.301 0.763622    \nMerchantActivityDachshunds    -4.817e-01  1.916e-01  -2.514 0.011941 *  \nMerchantActivityTrading Cards  1.115e+00  1.190e-01   9.366  < 2e-16 ***\nAuthenticationMethodID         8.689e-03  1.121e-01   0.078 0.938199    \nAuthenticationMethodOTP       -6.759e-02  1.031e-01  -0.655 0.512191    \nAuthenticationMethodSMS        2.528e-01  1.309e-01   1.931 0.053477 .  \nTransferredAmount              1.314e-03  5.769e-04   2.278 0.022701 *  \n---\nSignif. codes:  0 '***' 0.001 '**' 0.01 '*' 0.05 '.' 0.1 ' ' 1\n\n(Dispersion parameter for binomial family taken to be 1)\n\n    Null deviance: 5837.3  on 7977  degrees of freedom\nResidual deviance: 5376.8  on 7960  degrees of freedom\n  (2 observations deleted due to missingness)\nAIC: 5412.8\n\nNumber of Fisher Scoring iterations: 5\n"
     },
     "metadata": {},
     "output_type": "display_data"
    }
   ],
   "source": [
    "model<-glm(ClientMaritalStatus~., data=transactions_sample, family=binomial)\n",
    "summary(model)"
   ],
   "metadata": {
    "collapsed": false
   }
  },
  {
   "cell_type": "code",
   "execution_count": 26,
   "outputs": [
    {
     "data": {
      "text/plain": "\nCall:\nglm(formula = CreditBank ~ ., family = binomial, data = transactions_sample)\n\nCoefficients:\n                                Estimate Std. Error z value Pr(>|z|)    \n(Intercept)                    9.362e+00  1.197e+01   0.782 0.434092    \nDebitBankbandit-picsou         7.032e-02  7.137e-02   0.985 0.324515    \nDebitBankbandit-profit         4.235e-02  5.898e-02   0.718 0.472731    \nDebitBankbandit-radinou       -4.811e-05  8.944e-02  -0.001 0.999571    \nClientGenderMale              -1.791e-02  4.918e-02  -0.364 0.715795    \nClientBirthDate                3.559e-11  3.534e-11   1.007 0.313927    \nClientAge                     -3.493e-03  2.705e-03  -1.291 0.196564    \nClientMaritalStatusMarried     1.883e-01  7.689e-02   2.449 0.014318 *  \nClientMaritalStatusSingle      3.095e-01  9.185e-02   3.369 0.000755 ***\nClientMaritalStatusWidowed     4.128e-01  1.202e-01   3.434 0.000595 ***\nClientMonthlySalary           -1.871e-04  5.187e-05  -3.606 0.000311 ***\nTransactionDate               -4.676e-09  7.129e-09  -0.656 0.511843    \nMerchantActivityDachshunds     2.509e-01  1.513e-01   1.659 0.097147 .  \nMerchantActivityTrading Cards  2.753e-03  7.777e-02   0.035 0.971764    \nAuthenticationMethodID         3.029e-02  7.812e-02   0.388 0.698201    \nAuthenticationMethodOTP        2.681e-02  7.060e-02   0.380 0.704081    \nAuthenticationMethodSMS        2.570e-02  8.000e-02   0.321 0.748021    \nTransferredAmount             -4.638e-04  4.482e-04  -1.035 0.300696    \n---\nSignif. codes:  0 '***' 0.001 '**' 0.01 '*' 0.05 '.' 0.1 ' ' 1\n\n(Dispersion parameter for binomial family taken to be 1)\n\n    Null deviance: 9789.9  on 7977  degrees of freedom\nResidual deviance: 9662.1  on 7960  degrees of freedom\n  (2 observations deleted due to missingness)\nAIC: 9698.1\n\nNumber of Fisher Scoring iterations: 4\n"
     },
     "metadata": {},
     "output_type": "display_data"
    }
   ],
   "source": [
    "model<-glm(CreditBank~., data=transactions_sample, family=binomial)\n",
    "summary(model)"
   ],
   "metadata": {
    "collapsed": false
   }
  }
 ],
 "metadata": {
  "kernelspec": {
   "display_name": "R",
   "language": "R",
   "name": "ir"
  },
  "language_info": {
   "codemirror_mode": "r",
   "file_extension": ".r",
   "mimetype": "text/x-r-source",
   "name": "R",
   "pygments_lexer": "r",
   "version": "4.3.0"
  }
 },
 "nbformat": 4,
 "nbformat_minor": 1
}
